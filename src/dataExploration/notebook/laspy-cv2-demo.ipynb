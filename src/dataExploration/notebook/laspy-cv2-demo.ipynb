{
 "cells": [
  {
   "cell_type": "markdown",
   "id": "0888fcb4-bc85-46a6-946b-f0addbc537ee",
   "metadata": {},
   "source": [
    "# LiDAR Exploration and Grape Classification with laspy and OpenCV using Mahalanobis Distance"
   ]
  },
  {
   "cell_type": "code",
   "execution_count": 1,
   "id": "25e58f15-1b95-4d61-a30e-91bc799e9209",
   "metadata": {},
   "outputs": [],
   "source": [
    "import cv2\n",
    "import numpy as np\n",
    "import matplotlib.pyplot as plt\n",
    "import laspy"
   ]
  },
  {
   "cell_type": "markdown",
   "id": "6193f396-6679-448f-98f3-72e800806bf1",
   "metadata": {},
   "source": [
    "## Introduction"
   ]
  },
  {
   "cell_type": "markdown",
   "id": "4e4030fa-f7df-4a6f-9015-b0abf625f949",
   "metadata": {},
   "source": [
    "This notebook demonstrates an attempt at an end-to-end workflow for isolating candidate grape clusters in vineyard LiDAR data using a combination of RGB filtering and statistical classification. Utilizing the open-source python packages laspy, OpenCV and numpy, this approach builds on established methods in grape yield estimation and adapts them by incorporating a Mahalanobis distance-based filter for cluster identification. A key component of this approach is the use of Mahalanobis distance—a statistical measure that calculates how far each LiDAR point’s color is from a reference grape color model by considering the variance and correlations in the data. This distance metric is beneficial for identifying candidate grape clusters because it theoretically allows us to flag points that are statistically similar to our reference, thereby aiding in yield estimation. The following sections provide a step-by-step explanation of the process. From constructing a reference grape color model to classifying LiDAR points, visualizing the results, and saving the new LiDAR file for further manipulation."
   ]
  },
  {
   "cell_type": "markdown",
   "id": "c06929ed-2907-485e-93c8-a19b65ca154b",
   "metadata": {},
   "source": [
    "## Code"
   ]
  },
  {
   "cell_type": "markdown",
   "id": "2a508526-32b8-45a8-a55c-d80e94ef715f",
   "metadata": {},
   "source": [
    "Below is code that loads five images taken from a larger photo of the grapevine. Each image is a small snapshot of the riesling grapes found on the grapevine in order to extract the RGB values from them. They are converted from BGR to RGB and then to HSV, resized each image to the smallest common dimensions, and finally stacked them into a single numpy array for use later."
   ]
  },
  {
   "cell_type": "code",
   "execution_count": 2,
   "id": "b99ec0d7-11b3-4f1f-9e1d-7c59d642814b",
   "metadata": {},
   "outputs": [],
   "source": [
    "img = cv2.imread('/Users/brendan/Grape-Yield-Estimation/src/dataExploration/notebook/RieslingGrapePhotos/Riesling-Grape1.jpg')\n",
    "img2 = cv2.imread('/Users/brendan/Grape-Yield-Estimation/src/dataExploration/notebook/RieslingGrapePhotos/Riesling-Grape2.jpg')\n",
    "img3 = cv2.imread('/Users/brendan/Grape-Yield-Estimation/src/dataExploration/notebook/RieslingGrapePhotos/Riesling-Grape3.jpg')\n",
    "img4 = cv2.imread('/Users/brendan/Grape-Yield-Estimation/src/dataExploration/notebook/RieslingGrapePhotos/Riesling-Grape4.jpg')\n",
    "img5 = cv2.imread('/Users/brendan/Grape-Yield-Estimation/src/dataExploration/notebook/RieslingGrapePhotos/Riesling-Grape5.jpg')\n",
    "\n",
    "img_rgb = cv2.cvtColor(img, cv2.COLOR_BGR2RGB)\n",
    "img2_rgb = cv2.cvtColor(img2, cv2.COLOR_BGR2RGB)\n",
    "img3_rgb = cv2.cvtColor(img3, cv2.COLOR_BGR2RGB)\n",
    "img4_rgb = cv2.cvtColor(img4, cv2.COLOR_BGR2RGB)\n",
    "img5_rgb = cv2.cvtColor(img5, cv2.COLOR_BGR2RGB)\n",
    "\n",
    "img_hsv = cv2.cvtColor(img_rgb, cv2.COLOR_RGB2HSV)\n",
    "img2_hsv = cv2.cvtColor(img2_rgb, cv2.COLOR_RGB2HSV)\n",
    "img3_hsv = cv2.cvtColor(img3_rgb, cv2.COLOR_RGB2HSV)\n",
    "img4_hsv = cv2.cvtColor(img4_rgb, cv2.COLOR_RGB2HSV)\n",
    "img5_hsv = cv2.cvtColor(img5_rgb, cv2.COLOR_RGB2HSV)\n",
    "\n",
    "shapes = [img_hsv.shape, img2_hsv.shape, img3_hsv.shape, img4_hsv.shape, img5_hsv.shape]\n",
    "target_h = min(shape[0] for shape in shapes)\n",
    "target_w = min(shape[1] for shape in shapes)\n",
    "\n",
    "img_hsv_resized = cv2.resize(img_hsv, (target_w, target_h))\n",
    "img2_hsv_resized = cv2.resize(img2_hsv, (target_w, target_h))\n",
    "img3_hsv_resized = cv2.resize(img3_hsv, (target_w, target_h))\n",
    "img4_hsv_resized = cv2.resize(img4_hsv, (target_w, target_h))\n",
    "img5_hsv_resized = cv2.resize(img5_hsv, (target_w, target_h))\n",
    "\n",
    "img_stack = np.stack([img_hsv_resized, img2_hsv_resized, img3_hsv_resized, img4_hsv_resized, img5_hsv_resized], axis=0)"
   ]
  },
  {
   "cell_type": "markdown",
   "id": "1a17da0d-5e01-4278-8a9e-3e878c1fbed9",
   "metadata": {},
   "source": [
    "Below reads four wood images taken from the same grapevine photo, but specifically on the wood posts and branches. They are converted to RGB and then HSV, resized to the smallest common dimensions among the images, and finally stacked into a single numpy array for use later as well."
   ]
  },
  {
   "cell_type": "code",
   "execution_count": 3,
   "id": "218b83dc-0625-4036-9fff-4d62c1d9be5b",
   "metadata": {},
   "outputs": [],
   "source": [
    "wood1 = cv2.imread('/Users/brendan/Grape-Yield-Estimation/src/dataExploration/notebook/WoodPhotos/Wood1.jpg')\n",
    "wood2 = cv2.imread('/Users/brendan/Grape-Yield-Estimation/src/dataExploration/notebook/WoodPhotos/Wood2.jpg')\n",
    "wood3 = cv2.imread('/Users/brendan/Grape-Yield-Estimation/src/dataExploration/notebook/WoodPhotos/Wood3.jpg')\n",
    "wood4 = cv2.imread('/Users/brendan/Grape-Yield-Estimation/src/dataExploration/notebook/WoodPhotos/Wood4.jpg')\n",
    "\n",
    "wood1_rgb = cv2.cvtColor(wood1, cv2.COLOR_BGR2RGB)\n",
    "wood2_rgb = cv2.cvtColor(wood2, cv2.COLOR_BGR2RGB)\n",
    "wood3_rgb = cv2.cvtColor(wood3, cv2.COLOR_BGR2RGB)\n",
    "wood4_rgb = cv2.cvtColor(wood4, cv2.COLOR_BGR2RGB)\n",
    "\n",
    "wood1_hsv = cv2.cvtColor(wood1_rgb, cv2.COLOR_RGB2HSV)\n",
    "wood2_hsv = cv2.cvtColor(wood2_rgb, cv2.COLOR_RGB2HSV)\n",
    "wood3_hsv = cv2.cvtColor(wood3_rgb, cv2.COLOR_RGB2HSV)\n",
    "wood4_hsv = cv2.cvtColor(wood4_rgb, cv2.COLOR_RGB2HSV)\n",
    "\n",
    "shapes = [wood1_hsv.shape, wood2_hsv.shape, wood3_hsv.shape, wood4_hsv.shape]\n",
    "target_h = min(shape[0] for shape in shapes)\n",
    "target_w = min(shape[1] for shape in shapes)\n",
    "\n",
    "wood1_hsv_resized = cv2.resize(wood1_hsv, (target_w, target_h))\n",
    "wood2_hsv_resized = cv2.resize(wood2_hsv, (target_w, target_h))\n",
    "wood3_hsv_resized = cv2.resize(wood3_hsv, (target_w, target_h))\n",
    "wood4_hsv_resized = cv2.resize(wood4_hsv, (target_w, target_h))\n",
    "\n",
    "wood_stack = np.stack([wood1_hsv_resized, wood2_hsv_resized, wood3_hsv_resized, wood4_hsv_resized], axis=0)"
   ]
  },
  {
   "cell_type": "code",
   "execution_count": 4,
   "id": "86fb2e1a-2fee-4cd0-af37-b98461dfd0b3",
   "metadata": {},
   "outputs": [],
   "source": [
    "grape_colors = img_stack.reshape((-1, 3))"
   ]
  },
  {
   "cell_type": "code",
   "execution_count": 5,
   "id": "75a9cbd3-6891-43e1-927a-786bc27cf1f9",
   "metadata": {},
   "outputs": [],
   "source": [
    "wood_colors = wood_stack.reshape((-1, 3))"
   ]
  },
  {
   "cell_type": "markdown",
   "id": "9fb5bdbe-92a1-4417-af9f-3fb2e6493069",
   "metadata": {},
   "source": [
    "Below is code that computes the mean and covariance matrix for the grape and wood color arrays (treating columns as variables), and then calculates the inverse covariance matrices for each set. The mean and covariance for each of these arrays are the key values used to compute the Mahalanbois distances later."
   ]
  },
  {
   "cell_type": "code",
   "execution_count": 6,
   "id": "281a7456-e1e8-4672-971a-54747db34b07",
   "metadata": {},
   "outputs": [
    {
     "name": "stdout",
     "output_type": "stream",
     "text": [
      "[ 28.46802721 216.03809524 144.20272109]\n",
      "[[ 1.74948760e+00  2.83648092e+00 -6.52465697e-01]\n",
      " [ 2.83648092e+00  6.28457363e+02 -4.38434549e+02]\n",
      " [-6.52465697e-01 -4.38434549e+02  8.13811837e+02]]\n"
     ]
    }
   ],
   "source": [
    "mu = np.mean(grape_colors, axis=0)\n",
    "cov = np.cov(grape_colors, rowvar=False)\n",
    "\n",
    "print(mu)\n",
    "print(cov)"
   ]
  },
  {
   "cell_type": "code",
   "execution_count": 7,
   "id": "1ba51f08-b3b2-44a1-a3ad-dbc832948dc9",
   "metadata": {},
   "outputs": [
    {
     "name": "stdout",
     "output_type": "stream",
     "text": [
      "[ 41.28763441  70.2437276  119.99910394]\n",
      "[[3767.37279763 -598.85581754  492.64241043]\n",
      " [-598.85581754  772.05534179 -895.09933298]\n",
      " [ 492.64241043 -895.09933298 1526.93363148]]\n"
     ]
    }
   ],
   "source": [
    "mu_wood = np.mean(wood_colors, axis=0)\n",
    "cov_wood = np.cov(wood_colors, rowvar=False)\n",
    "\n",
    "print(mu_wood)\n",
    "print(cov_wood)"
   ]
  },
  {
   "cell_type": "code",
   "execution_count": 8,
   "id": "cc3394f6-da9b-41bf-8bf8-adf392999fc8",
   "metadata": {},
   "outputs": [],
   "source": [
    "inv_cov = np.linalg.inv(cov)"
   ]
  },
  {
   "cell_type": "code",
   "execution_count": 9,
   "id": "f01a675c-47d4-416e-bb26-5f657981851d",
   "metadata": {},
   "outputs": [],
   "source": [
    "inv_cov_wood = np.linalg.inv(cov_wood)"
   ]
  },
  {
   "cell_type": "markdown",
   "id": "da454e56-47cb-4db5-aa1e-fb3072b2f175",
   "metadata": {},
   "source": [
    "Read LiDAR data from a LAS file that contains a single row of the grapevine in question. Extracts the red, green, and blue channels from the grapevine row into an RGB array. It then computes the Mahalanobis distances of each LiDAR color sample from both the grape and wood color sample distributions using their respective mean vectors and inverse covariance matrices."
   ]
  },
  {
   "cell_type": "code",
   "execution_count": 10,
   "id": "3f907475-a1ad-4be1-88d7-43691e7f768c",
   "metadata": {},
   "outputs": [],
   "source": [
    "# change to location of row LiDAR data directory\n",
    "las = laspy.read('../CodyKresta8_8_24_riesling_low1_ref_Row_3.las')"
   ]
  },
  {
   "cell_type": "code",
   "execution_count": 11,
   "id": "54ef6016-a811-43c2-b26f-5e5b4cf6cde8",
   "metadata": {},
   "outputs": [],
   "source": [
    "r = las.red\n",
    "g = las.green\n",
    "b = las.blue"
   ]
  },
  {
   "cell_type": "code",
   "execution_count": 12,
   "id": "b00b163b-52d7-4d34-9a3e-7b50b657c204",
   "metadata": {},
   "outputs": [],
   "source": [
    "lidar_rgb = np.column_stack((r, g, b))"
   ]
  },
  {
   "cell_type": "code",
   "execution_count": 13,
   "id": "74c414c2-6532-4e16-a8a3-8623836fa056",
   "metadata": {},
   "outputs": [],
   "source": [
    "diff = lidar_rgb - mu\n",
    "d2 = np.einsum('ij,jk,ik->i', diff, inv_cov, diff)\n",
    "mahal_distances = np.sqrt(d2)"
   ]
  },
  {
   "cell_type": "code",
   "execution_count": 14,
   "id": "90fb6a19-8d7d-48c4-af48-5a557248a0ac",
   "metadata": {},
   "outputs": [],
   "source": [
    "diff_wood = lidar_rgb - mu_wood\n",
    "d2_wood = np.einsum('ij,jk,ik->i', diff_wood, inv_cov_wood, diff_wood)\n",
    "mahal_distances_wood = np.sqrt(d2_wood)"
   ]
  },
  {
   "cell_type": "markdown",
   "id": "65f77ae2-6c2a-413e-ba72-caddca71bc4a",
   "metadata": {},
   "source": [
    "Below calculates descriptive statistics (minimum, maximum, mean, median, standard deviation, 25th and 75th percentiles) for the Mahalanobis distances computed from both the grape and wood datasets and prints them."
   ]
  },
  {
   "cell_type": "code",
   "execution_count": 15,
   "id": "a19b5f37-172c-42ff-a275-e6349aa8ed2e",
   "metadata": {},
   "outputs": [
    {
     "name": "stdout",
     "output_type": "stream",
     "text": [
      "Mahalanobis Distance Statistics:\n",
      "Min: 5402.881836827666\n",
      "Max: 49433.78309663788\n",
      "Mean: 19627.37918883207\n",
      "Median: 18190.78212228766\n",
      "Standard Deviation: 6396.579526202613\n",
      "25th Percentile: 14899.782741880754\n",
      "75th Percentile: 22843.789419292138\n"
     ]
    }
   ],
   "source": [
    "min_val = np.min(mahal_distances)\n",
    "max_val = np.max(mahal_distances)\n",
    "mean_val = np.mean(mahal_distances)\n",
    "median_val = np.median(mahal_distances)\n",
    "std_val = np.std(mahal_distances)\n",
    "\n",
    "p25 = np.percentile(mahal_distances, 25)\n",
    "p75 = np.percentile(mahal_distances, 75)\n",
    "\n",
    "print(\"Mahalanobis Distance Statistics:\")\n",
    "print(\"Min:\", min_val)\n",
    "print(\"Max:\", max_val)\n",
    "print(\"Mean:\", mean_val)\n",
    "print(\"Median:\", median_val)\n",
    "print(\"Standard Deviation:\", std_val)\n",
    "print(\"25th Percentile:\", p25)\n",
    "print(\"75th Percentile:\", p75)"
   ]
  },
  {
   "cell_type": "code",
   "execution_count": 16,
   "id": "692fa550-9f34-44b7-b975-ae4de4c39be9",
   "metadata": {},
   "outputs": [
    {
     "name": "stdout",
     "output_type": "stream",
     "text": [
      "Mahalanobis Distance Statistics:\n",
      "Min: 461.2558704924867\n",
      "Max: 7443.04737930331\n",
      "Mean: 2721.6976489924664\n",
      "Median: 2493.165626984515\n",
      "Standard Deviation: 946.0628024787949\n",
      "25th Percentile: 2049.0275435581225\n",
      "75th Percentile: 3157.3216450071786\n"
     ]
    }
   ],
   "source": [
    "min_val_wood = np.min(mahal_distances_wood)\n",
    "max_val_wood = np.max(mahal_distances_wood)\n",
    "mean_val_wood = np.mean(mahal_distances_wood)\n",
    "median_val_wood = np.median(mahal_distances_wood)\n",
    "std_val_wood = np.std(mahal_distances_wood)\n",
    "\n",
    "p25_wood = np.percentile(mahal_distances_wood, 25)\n",
    "p75_wood = np.percentile(mahal_distances_wood, 75)\n",
    "\n",
    "print(\"Mahalanobis Distance Statistics:\")\n",
    "print(\"Min:\", min_val_wood)\n",
    "print(\"Max:\", max_val_wood)\n",
    "print(\"Mean:\", mean_val_wood)\n",
    "print(\"Median:\", median_val_wood)\n",
    "print(\"Standard Deviation:\", std_val_wood)\n",
    "print(\"25th Percentile:\", p25_wood)\n",
    "print(\"75th Percentile:\", p75_wood)"
   ]
  },
  {
   "cell_type": "markdown",
   "id": "350e78e3-2f9c-4b36-85bb-26c657e87f73",
   "metadata": {},
   "source": [
    "Below generates two histograms—one for the grape Mahalanobis distances and one for the wood Mahalanobis distances—with overlays for the mean (red dashed line) and median (green dashed line) to visually represent the distribution of distances."
   ]
  },
  {
   "cell_type": "code",
   "execution_count": 17,
   "id": "b1a70cbc-ad69-4548-840c-59ec53ef4b53",
   "metadata": {},
   "outputs": [
    {
     "data": {
      "image/png": "[encoded data removed]",
      "text/plain": [
       "<Figure size 800x500 with 1 Axes>"
      ]
     },
     "metadata": {},
     "output_type": "display_data"
    }
   ],
   "source": [
    "plt.figure(figsize=(8, 5))\n",
    "plt.hist(mahal_distances, bins=300, color='skyblue', edgecolor='black')\n",
    "plt.xlabel(\"Mahalanobis Distance\")\n",
    "plt.ylabel(\"Frequency\")\n",
    "plt.title(\"Histogram of Mahalanobis Distances\")\n",
    "plt.axvline(x=mean_val, color='red', linestyle='--', label='Mean')\n",
    "plt.axvline(x=median_val, color='green', linestyle='--', label='Median')\n",
    "plt.legend()\n",
    "plt.show()"
   ]
  },
  {
   "cell_type": "code",
   "execution_count": 18,
   "id": "ada9fa88-0f5b-4c82-9e17-2afa76ed5d59",
   "metadata": {},
   "outputs": [
    {
     "data": {
      "image/png": "[encoded data removed]",
      "text/plain": [
       "<Figure size 800x500 with 1 Axes>"
      ]
     },
     "metadata": {},
     "output_type": "display_data"
    }
   ],
   "source": [
    "plt.figure(figsize=(8, 5))\n",
    "plt.hist(mahal_distances_wood, bins=300, color='skyblue', edgecolor='black')\n",
    "plt.xlabel(\"Mahalanobis Distance\")\n",
    "plt.ylabel(\"Frequency\")\n",
    "plt.title(\"Histogram of Mahalanobis Distances\")\n",
    "plt.axvline(x=mean_val_wood, color='red', linestyle='--', label='Mean')\n",
    "plt.axvline(x=median_val_wood, color='green', linestyle='--', label='Median')\n",
    "plt.legend()\n",
    "plt.show()"
   ]
  },
  {
   "cell_type": "markdown",
   "id": "31c67920-740d-4f03-b4b8-1c48530fce0a",
   "metadata": {},
   "source": [
    "Finally, this code applies a threshold to the Mahalanobis distances to classify LiDAR points as grape points. Points with distances below the threshold are flagged in the LAS file's classification array, the number of such points is printed, and the updated LAS file is saved to be used to test the results against the original LAS file we imported earlier."
   ]
  },
  {
   "cell_type": "code",
   "execution_count": 19,
   "id": "6dffc0d9-2b60-42ef-8f24-7f29bf8534fe",
   "metadata": {},
   "outputs": [
    {
     "name": "stdout",
     "output_type": "stream",
     "text": [
      "Number of LiDAR points classified as grapes: 22046\n"
     ]
    }
   ],
   "source": [
    "threshold = 10000\n",
    "grape_points_mask = mahal_distances <= threshold\n",
    "grape_points_rgb = lidar_rgb[grape_points_mask]\n",
    "print(\"Number of LiDAR points classified as grapes:\", grape_points_rgb.shape[0])"
   ]
  },
  {
   "cell_type": "code",
   "execution_count": 20,
   "id": "c021f08d-d387-4f03-a61e-8a140fb10a00",
   "metadata": {},
   "outputs": [
    {
     "name": "stdout",
     "output_type": "stream",
     "text": [
      "Number of points classified as grapes: 22046\n"
     ]
    }
   ],
   "source": [
    "las.classification[grape_points_mask] = 1\n",
    "num_grape_points = np.count_nonzero(las.classification == 1)\n",
    "print(\"Number of points classified as grapes:\", num_grape_points)"
   ]
  },
  {
   "cell_type": "code",
   "execution_count": 21,
   "id": "c32a2e0e-3653-4438-9b50-57c8f67a27d4",
   "metadata": {},
   "outputs": [],
   "source": [
    "las.write('CodyKresta8_8_24_riesling_low1_ref_Row_3_classified.las')"
   ]
  },
  {
   "cell_type": "markdown",
   "id": "657629ef-225d-42c8-aa8d-c5f18272e11e",
   "metadata": {},
   "source": [
    "## Conclusion"
   ]
  },
  {
   "cell_type": "markdown",
   "id": "021707d6-38db-4801-aafa-6c91505e6831",
   "metadata": {},
   "source": [
    "In conclusion, this notebook presents a complete workflow for isolating potential grape clusters from vineyard LiDAR data by combining RGB filtering with statistical classification. The process involves creating reference color models, processing images with OpenCV, and classifying LiDAR points based on their Mahalanobis distance from these models. Although the code successfully produces histograms and an updated LAS file, it currently relies on an arbitrary threshold for classification. Since the Mahalanobis distance distributions are unimodal and skewed right, there isn’t a clear-cut point that accurately separates grape points from non-grape points. This limitation underscores the need for further calibration and refinement before the method can be reliably used for yield estimation."
   ]
  }
 ],
 "metadata": {
  "kernelspec": {
   "display_name": "Python 3 (ipykernel)",
   "language": "python",
   "name": "python3"
  },
  "language_info": {
   "codemirror_mode": {
    "name": "ipython",
    "version": 3
   },
   "file_extension": ".py",
   "mimetype": "text/x-python",
   "name": "python",
   "nbconvert_exporter": "python",
   "pygments_lexer": "ipython3",
   "version": "3.12.1"
  }
 },
 "nbformat": 4,
 "nbformat_minor": 5
}
