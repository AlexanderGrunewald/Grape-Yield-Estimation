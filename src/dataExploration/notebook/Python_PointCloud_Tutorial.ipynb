{
 "cells": [
  {
   "cell_type": "markdown",
   "id": "d5de9042-35f1-4da5-b85a-1cbfbbbc24c7",
   "metadata": {},
   "source": [
    "This notebook is intended to be a short tutorial on opening, viewing, and manipulating point clouds using python.  We will first read the file in using the laspy package, and then extract its points.  Then for ease of use, the points in the cloud will be converted into an open3d point cloud as seene below.  "
   ]
  },
  {
   "cell_type": "code",
   "execution_count": 3,
   "id": "72bdbd40-7f62-4a26-8234-ae200c1d3549",
   "metadata": {},
   "outputs": [
    {
     "name": "stdout",
     "output_type": "stream",
     "text": [
      "Jupyter environment detected. Enabling Open3D WebVisualizer.\n",
      "[Open3D INFO] WebRTC GUI backend enabled.\n",
      "[Open3D INFO] WebRTCWindowSystem: HTTP handshake server disabled.\n",
      "Successfully loaded 31117012 points.\n"
     ]
    }
   ],
   "source": [
    "import laspy\n",
    "import numpy as np\n",
    "import open3d as o3d\n",
    "\n",
    "\n",
    "las = laspy.read(\"src/dataExploration/notebook/CodyKrest9_4_24_riesling_chest1_ref6.las\")\n",
    "\n",
    "points = np.vstack((las.x, las.y, las.z)).transpose()\n",
    "\n",
    "r = las.red/255\n",
    "g = las.green/255\n",
    "b = las.blue/255\n",
    "rgb_colors = np.vstack((r, g, b)).transpose()\n",
    "\n",
    "if points.shape[0] == 0:\n",
    "    print(\"Error: No points found in LAS file!\")\n",
    "else:\n",
    "    print(f\"Successfully loaded {points.shape[0]} points.\")\n",
    "    pcd = o3d.geometry.PointCloud()\n",
    "    pcd.points = o3d.utility.Vector3dVector(points)\n",
    "    pcd.colors = o3d.utility.Vector3dVector(rgb_colors)"
   ]
  },
  {
   "cell_type": "markdown",
   "id": "f0bf478a-351d-443d-8c66-034fa1cf89b4",
   "metadata": {},
   "source": [
    "For large files, the data a long time to load.  For the sake of this tutorial, the point cloud has been downsampled it 1/20th of its original size using the code below.  "
   ]
  },
  {
   "cell_type": "code",
   "execution_count": 6,
   "id": "1dc306f5-83cc-45b1-b8ea-407fccae156b",
   "metadata": {},
   "outputs": [],
   "source": [
    "o3d.io.write_point_cloud(\"converted.ply\", pcd)\n",
    "voxel_size = 0.05\n",
    "pcd_down = pcd.voxel_down_sample(voxel_size)"
   ]
  },
  {
   "cell_type": "markdown",
   "id": "cf91c9f1-801c-40f2-bb4f-e70bc0ba51db",
   "metadata": {},
   "source": [
    "Now that the code has been loaded and down sampled, one can simple call the draw_geometries function to create the 3D image from the cell below.  You can scroll in and out to increase and reduce the zoom, as well as click and drag to rotate the image.  This cell will continue running until the image tab is closed.  "
   ]
  },
  {
   "cell_type": "code",
   "execution_count": 8,
   "id": "9d6426d6-1d04-4f2a-b00c-3270e874ba40",
   "metadata": {},
   "outputs": [],
   "source": [
    "o3d.visualization.draw_geometries([pcd_down])"
   ]
  },
  {
   "cell_type": "markdown",
   "id": "f1db0912-2790-4f11-b195-291566e268b4",
   "metadata": {},
   "source": [
    "Below are some transformations that can be used to change the image for better viewing.  "
   ]
  },
  {
   "cell_type": "code",
   "execution_count": 11,
   "id": "50773fb4-3786-40b3-8604-17d89f3fca69",
   "metadata": {},
   "outputs": [
    {
     "data": {
      "text/plain": [
       "PointCloud with 18282324 points."
      ]
     },
     "execution_count": 11,
     "metadata": {},
     "output_type": "execute_result"
    }
   ],
   "source": [
    "pcd_down.translate((0, 2, 0)) \n",
    "R = pcd_down.get_rotation_matrix_from_xyz((0, np.pi/2, 0))  \n",
    "pcd_down.rotate(R, center=(0, 0, 0))\n",
    "pcd_down.scale(2.0, center=(0, 0, 0))"
   ]
  },
  {
   "cell_type": "markdown",
   "id": "21340b1d-fbc8-43bb-8679-9b3c05b3941e",
   "metadata": {},
   "source": [
    "Once again visualizing the file after the translations to see a difference"
   ]
  },
  {
   "cell_type": "code",
   "execution_count": 14,
   "id": "cfd41b44-cb98-42fd-b8a8-cd470240ec5b",
   "metadata": {},
   "outputs": [],
   "source": [
    "o3d.visualization.draw_geometries([pcd_down])"
   ]
  },
  {
   "cell_type": "markdown",
   "id": "20c4d351-ce13-4a7e-80d1-66d55d0cd4b9",
   "metadata": {},
   "source": [
    "Here you can filter to remove any statistical outliers."
   ]
  },
  {
   "cell_type": "code",
   "execution_count": 16,
   "id": "2e6212ab-18f9-47be-b839-13a2107ee8fc",
   "metadata": {},
   "outputs": [],
   "source": [
    "cl, ind = pcd_down.remove_statistical_outlier(nb_neighbors=20, std_ratio=2.0)\n",
    "pcd_filtered = pcd_down.select_by_index(ind)\n",
    "o3d.visualization.draw_geometries([pcd_filtered])"
   ]
  },
  {
   "cell_type": "markdown",
   "id": "2a2a1d53-7c2a-47ee-af84-23a515817eb3",
   "metadata": {},
   "source": [
    "An easy way to create a mesh can be done as such"
   ]
  },
  {
   "cell_type": "code",
   "execution_count": 20,
   "id": "948834fc-a50b-4810-8e29-2a362863b1ff",
   "metadata": {},
   "outputs": [],
   "source": [
    "pcd_filtered.estimate_normals(search_param=o3d.geometry.KDTreeSearchParamHybrid(radius=0.1, max_nn=30))\n",
    "mesh, densities = o3d.geometry.TriangleMesh.create_from_point_cloud_poisson(pcd_filtered, depth=9)\n",
    "o3d.visualization.draw_geometries([mesh])\n"
   ]
  },
  {
   "cell_type": "markdown",
   "id": "a4857f4a-2fd3-4f2b-b99d-879c04c9dc23",
   "metadata": {},
   "source": [
    "Now that you know how to load, open, manipulate, and create a mesh from the file, you can export it as seen below:"
   ]
  },
  {
   "cell_type": "code",
   "execution_count": 22,
   "id": "b11c1f15-52e1-422f-bf36-aa9fd2fbb23e",
   "metadata": {},
   "outputs": [
    {
     "data": {
      "text/plain": [
       "True"
      ]
     },
     "execution_count": 22,
     "metadata": {},
     "output_type": "execute_result"
    }
   ],
   "source": [
    "o3d.io.write_point_cloud(\"processed.ply\", pcd_filtered)"
   ]
  },
  {
   "cell_type": "code",
   "execution_count": null,
   "id": "458532ac-c780-4e53-a525-744dd63b7843",
   "metadata": {},
   "outputs": [],
   "source": []
  }
 ],
 "metadata": {
  "kernelspec": {
   "display_name": "Python 3 (ipykernel)",
   "language": "python",
   "name": "python3"
  },
  "language_info": {
   "codemirror_mode": {
    "name": "ipython",
    "version": 3
   },
   "file_extension": ".py",
   "mimetype": "text/x-python",
   "name": "python",
   "nbconvert_exporter": "python",
   "pygments_lexer": "ipython3",
   "version": "3.12.3"
  }
 },
 "nbformat": 4,
 "nbformat_minor": 5
}
